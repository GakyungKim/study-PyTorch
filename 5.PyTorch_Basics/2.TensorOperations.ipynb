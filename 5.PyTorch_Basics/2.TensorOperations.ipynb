{
 "cells": [
  {
   "cell_type": "markdown",
   "id": "6f61783b",
   "metadata": {},
   "source": [
    "# 22. Tensor Operations - Part One"
   ]
  },
  {
   "cell_type": "markdown",
   "id": "0d61290e",
   "metadata": {},
   "source": [
    "### load modules"
   ]
  },
  {
   "cell_type": "code",
   "execution_count": 1,
   "id": "2b2ab31e",
   "metadata": {},
   "outputs": [],
   "source": [
    "import torch\n",
    "import numpy as np"
   ]
  },
  {
   "cell_type": "markdown",
   "id": "04e8c4d6",
   "metadata": {},
   "source": [
    "### torch.arange & .reshape"
   ]
  },
  {
   "cell_type": "code",
   "execution_count": 3,
   "id": "06ac6de7",
   "metadata": {},
   "outputs": [
    {
     "name": "stdout",
     "output_type": "stream",
     "text": [
      "tensor([[0, 1],\n",
      "        [2, 3],\n",
      "        [4, 5]])\n"
     ]
    }
   ],
   "source": [
    "x = torch.arange(6).reshape(3,2)\n",
    "print(x)"
   ]
  },
  {
   "cell_type": "code",
   "execution_count": 7,
   "id": "db3a157d",
   "metadata": {
    "scrolled": true
   },
   "outputs": [
    {
     "data": {
      "text/plain": [
       "tensor([[1],\n",
       "        [3],\n",
       "        [5]])"
      ]
     },
     "execution_count": 7,
     "metadata": {},
     "output_type": "execute_result"
    }
   ],
   "source": [
    "x[1,1] #tensor(3)\n",
    "type(x[1,1]) #torch.Tensor\n",
    "x[:,1] #tensor([1,3,5])\n",
    "x[:,1:] \n",
    "#tensor([[1],\n",
    "#        [3],\n",
    "#        [5]])"
   ]
  },
  {
   "cell_type": "markdown",
   "id": "20579b67",
   "metadata": {},
   "source": [
    "### torch.arange & .view"
   ]
  },
  {
   "cell_type": "code",
   "execution_count": 8,
   "id": "22eff2ed",
   "metadata": {},
   "outputs": [
    {
     "name": "stdout",
     "output_type": "stream",
     "text": [
      "tensor([0, 1, 2, 3, 4, 5, 6, 7, 8, 9])\n"
     ]
    }
   ],
   "source": [
    "x = torch.arange(10)\n",
    "print(x)"
   ]
  },
  {
   "cell_type": "code",
   "execution_count": 10,
   "id": "594ed884",
   "metadata": {},
   "outputs": [
    {
     "data": {
      "text/plain": [
       "tensor([[0, 1, 2, 3, 4],\n",
       "        [5, 6, 7, 8, 9]])"
      ]
     },
     "execution_count": 10,
     "metadata": {},
     "output_type": "execute_result"
    }
   ],
   "source": [
    "x.view(2,5) #same value, but as 2x5 size"
   ]
  },
  {
   "cell_type": "markdown",
   "id": "780cf08c",
   "metadata": {},
   "source": [
    "### torch.arange -> torch.Size([10]) (even) -> x.view(2, -1)"
   ]
  },
  {
   "cell_type": "code",
   "execution_count": 13,
   "id": "0a348e89",
   "metadata": {},
   "outputs": [
    {
     "name": "stdout",
     "output_type": "stream",
     "text": [
      "tensor([0, 1, 2, 3, 4, 5, 6, 7, 8, 9])\n",
      "torch.Size([10])\n"
     ]
    }
   ],
   "source": [
    "x = torch.arange(10)\n",
    "print(x) # tensor([0,1,2,3,4,5,6,7,8,9])\n",
    "print(x.shape) #torch.Size([10])"
   ]
  },
  {
   "cell_type": "code",
   "execution_count": 14,
   "id": "d0fddaef",
   "metadata": {},
   "outputs": [
    {
     "data": {
      "text/plain": [
       "tensor([[0, 1, 2, 3, 4],\n",
       "        [5, 6, 7, 8, 9]])"
      ]
     },
     "execution_count": 14,
     "metadata": {},
     "output_type": "execute_result"
    }
   ],
   "source": [
    "# INFER what the 2nd dimension\n",
    "x.view(2,-1)"
   ]
  },
  {
   "cell_type": "markdown",
   "id": "bf9eed06",
   "metadata": {},
   "source": [
    "### torch.arange -> torch.Size([11]) (odd) -> x.view(2, -1) error"
   ]
  },
  {
   "cell_type": "code",
   "execution_count": 16,
   "id": "e0244857",
   "metadata": {},
   "outputs": [
    {
     "name": "stdout",
     "output_type": "stream",
     "text": [
      "tensor([ 0,  1,  2,  3,  4,  5,  6,  7,  8,  9, 10])\n",
      "torch.Size([11])\n"
     ]
    }
   ],
   "source": [
    "x = torch.arange(11)\n",
    "print(x) # tensor([0,1,2,3,4,5,6,7,8,9,10])\n",
    "print(x.shape) #torch.Size([11])"
   ]
  },
  {
   "cell_type": "code",
   "execution_count": 17,
   "id": "8291caa9",
   "metadata": {},
   "outputs": [
    {
     "ename": "RuntimeError",
     "evalue": "shape '[2, -1]' is invalid for input of size 11",
     "output_type": "error",
     "traceback": [
      "\u001b[0;31m---------------------------------------------------------------------------\u001b[0m",
      "\u001b[0;31mRuntimeError\u001b[0m                              Traceback (most recent call last)",
      "\u001b[0;32m/tmp/ipykernel_3879664/3938437525.py\u001b[0m in \u001b[0;36m<module>\u001b[0;34m\u001b[0m\n\u001b[1;32m      1\u001b[0m \u001b[0;31m# INFER what the 2nd dimension\u001b[0m\u001b[0;34m\u001b[0m\u001b[0;34m\u001b[0m\u001b[0;34m\u001b[0m\u001b[0m\n\u001b[0;32m----> 2\u001b[0;31m \u001b[0mx\u001b[0m\u001b[0;34m.\u001b[0m\u001b[0mview\u001b[0m\u001b[0;34m(\u001b[0m\u001b[0;36m2\u001b[0m\u001b[0;34m,\u001b[0m\u001b[0;34m-\u001b[0m\u001b[0;36m1\u001b[0m\u001b[0;34m)\u001b[0m\u001b[0;34m\u001b[0m\u001b[0;34m\u001b[0m\u001b[0m\n\u001b[0m",
      "\u001b[0;31mRuntimeError\u001b[0m: shape '[2, -1]' is invalid for input of size 11"
     ]
    }
   ],
   "source": [
    "# INFER what the 2nd dimension\n",
    "x.view(2,-1)\n",
    "\n",
    "\n",
    "##error since shape '[2, -1]' is invalid for input of size 11"
   ]
  },
  {
   "cell_type": "markdown",
   "id": "d5fa45f5",
   "metadata": {},
   "source": [
    "### torch.add(a,b)"
   ]
  },
  {
   "cell_type": "code",
   "execution_count": 19,
   "id": "1b438ec3",
   "metadata": {},
   "outputs": [
    {
     "name": "stdout",
     "output_type": "stream",
     "text": [
      "tensor([1., 2., 3.])\n",
      "torch.float32\n"
     ]
    }
   ],
   "source": [
    "a = torch.tensor([1., 2., 3.])\n",
    "print(a)\n",
    "print(a.dtype)"
   ]
  },
  {
   "cell_type": "code",
   "execution_count": 20,
   "id": "ec5d9d4e",
   "metadata": {},
   "outputs": [
    {
     "name": "stdout",
     "output_type": "stream",
     "text": [
      "tensor([4., 5., 6.])\n",
      "torch.float32\n"
     ]
    }
   ],
   "source": [
    "b = torch.tensor([4., 5., 6])\n",
    "print(b)\n",
    "print(b.dtype)"
   ]
  },
  {
   "cell_type": "code",
   "execution_count": 21,
   "id": "e2cc13b3",
   "metadata": {},
   "outputs": [
    {
     "data": {
      "text/plain": [
       "tensor([5., 7., 9.])"
      ]
     },
     "execution_count": 21,
     "metadata": {},
     "output_type": "execute_result"
    }
   ],
   "source": [
    "a + b #same thing with torch.add(a,b)"
   ]
  },
  {
   "cell_type": "code",
   "execution_count": 22,
   "id": "d850a5ac",
   "metadata": {
    "scrolled": true
   },
   "outputs": [
    {
     "data": {
      "text/plain": [
       "tensor([5., 7., 9.])"
      ]
     },
     "execution_count": 22,
     "metadata": {},
     "output_type": "execute_result"
    }
   ],
   "source": [
    "torch.add(a,b)"
   ]
  },
  {
   "cell_type": "markdown",
   "id": "9a0a5ef5",
   "metadata": {},
   "source": [
    "### a.mul()"
   ]
  },
  {
   "cell_type": "code",
   "execution_count": 23,
   "id": "1172b5cd",
   "metadata": {},
   "outputs": [
    {
     "data": {
      "text/plain": [
       "tensor([ 4., 10., 18.])"
      ]
     },
     "execution_count": 23,
     "metadata": {},
     "output_type": "execute_result"
    }
   ],
   "source": [
    "a.mul(b) #tensor([4., 10., 18.])"
   ]
  },
  {
   "cell_type": "code",
   "execution_count": 24,
   "id": "f26afa80",
   "metadata": {},
   "outputs": [
    {
     "data": {
      "text/plain": [
       "tensor(32.)"
      ]
     },
     "execution_count": 24,
     "metadata": {},
     "output_type": "execute_result"
    }
   ],
   "source": [
    "# dot product \n",
    "a.dot(b) #tensor(32.)"
   ]
  },
  {
   "cell_type": "markdown",
   "id": "ca58bac4",
   "metadata": {},
   "source": [
    "# 23. Tensor Operations - Part Two"
   ]
  },
  {
   "cell_type": "markdown",
   "id": "82dfe74d",
   "metadata": {},
   "source": [
    "### a @ b"
   ]
  },
  {
   "cell_type": "code",
   "execution_count": 29,
   "id": "42e25845",
   "metadata": {},
   "outputs": [
    {
     "name": "stdout",
     "output_type": "stream",
     "text": [
      "tensor([[0, 2, 4],\n",
      "        [1, 3, 5]])\n",
      "torch.Size([2, 3])\n"
     ]
    }
   ],
   "source": [
    "a = torch.tensor([[0,2,4],[1,3,5]])\n",
    "print(a)\n",
    "print(a.shape)"
   ]
  },
  {
   "cell_type": "code",
   "execution_count": 30,
   "id": "cf24a1b7",
   "metadata": {},
   "outputs": [
    {
     "name": "stdout",
     "output_type": "stream",
     "text": [
      "tensor([[ 6,  7],\n",
      "        [ 8,  9],\n",
      "        [10, 11]])\n",
      "torch.Size([3, 2])\n"
     ]
    }
   ],
   "source": [
    "b = torch.tensor([[6,7], [8,9], [10,11]])\n",
    "print(b)\n",
    "print(b.shape)"
   ]
  },
  {
   "cell_type": "code",
   "execution_count": 31,
   "id": "2befbbfb",
   "metadata": {},
   "outputs": [
    {
     "data": {
      "text/plain": [
       "tensor([[56, 62],\n",
       "        [80, 89]])"
      ]
     },
     "execution_count": 31,
     "metadata": {},
     "output_type": "execute_result"
    }
   ],
   "source": [
    "torch.mm(a,b)"
   ]
  },
  {
   "cell_type": "code",
   "execution_count": 32,
   "id": "1bf491b8",
   "metadata": {},
   "outputs": [
    {
     "data": {
      "text/plain": [
       "tensor([[56, 62],\n",
       "        [80, 89]])"
      ]
     },
     "execution_count": 32,
     "metadata": {},
     "output_type": "execute_result"
    }
   ],
   "source": [
    "a @ b"
   ]
  },
  {
   "cell_type": "markdown",
   "id": "640d5541",
   "metadata": {},
   "source": [
    "### L2 or Euclidian Norm"
   ]
  },
  {
   "cell_type": "markdown",
   "id": "ac95a236",
   "metadata": {},
   "source": [
    "#### example 1"
   ]
  },
  {
   "cell_type": "code",
   "execution_count": 33,
   "id": "6fb72a2f",
   "metadata": {},
   "outputs": [
    {
     "name": "stdout",
     "output_type": "stream",
     "text": [
      "tensor([2., 3., 4., 5.])\n"
     ]
    }
   ],
   "source": [
    "x = torch.tensor([2., 3., 4., 5.])\n",
    "print(x)"
   ]
  },
  {
   "cell_type": "code",
   "execution_count": 34,
   "id": "3f625162",
   "metadata": {},
   "outputs": [
    {
     "data": {
      "text/plain": [
       "tensor(7.3485)"
      ]
     },
     "execution_count": 34,
     "metadata": {},
     "output_type": "execute_result"
    }
   ],
   "source": [
    "x.norm()"
   ]
  },
  {
   "cell_type": "code",
   "execution_count": 36,
   "id": "428b06d2",
   "metadata": {},
   "outputs": [
    {
     "data": {
      "text/plain": [
       "4"
      ]
     },
     "execution_count": 36,
     "metadata": {},
     "output_type": "execute_result"
    }
   ],
   "source": [
    "x.numel() #number of elements"
   ]
  },
  {
   "cell_type": "code",
   "execution_count": 37,
   "id": "663cbfb8",
   "metadata": {
    "scrolled": true
   },
   "outputs": [
    {
     "data": {
      "text/plain": [
       "4"
      ]
     },
     "execution_count": 37,
     "metadata": {},
     "output_type": "execute_result"
    }
   ],
   "source": [
    "len(x)"
   ]
  },
  {
   "cell_type": "markdown",
   "id": "c70cca47",
   "metadata": {},
   "source": [
    "#### example 2"
   ]
  },
  {
   "cell_type": "code",
   "execution_count": 38,
   "id": "48048fb4",
   "metadata": {},
   "outputs": [
    {
     "data": {
      "text/plain": [
       "tensor([[0, 2, 4],\n",
       "        [1, 3, 5]])"
      ]
     },
     "execution_count": 38,
     "metadata": {},
     "output_type": "execute_result"
    }
   ],
   "source": [
    "a"
   ]
  },
  {
   "cell_type": "code",
   "execution_count": 40,
   "id": "d795080d",
   "metadata": {},
   "outputs": [
    {
     "data": {
      "text/plain": [
       "2"
      ]
     },
     "execution_count": 40,
     "metadata": {},
     "output_type": "execute_result"
    }
   ],
   "source": [
    "len(a)b #number of rows"
   ]
  },
  {
   "cell_type": "code",
   "execution_count": 41,
   "id": "35ccb929",
   "metadata": {},
   "outputs": [
    {
     "data": {
      "text/plain": [
       "6"
      ]
     },
     "execution_count": 41,
     "metadata": {},
     "output_type": "execute_result"
    }
   ],
   "source": [
    "a.numel() #number of elements"
   ]
  }
 ],
 "metadata": {
  "kernelspec": {
   "display_name": "Python 3 (ipykernel)",
   "language": "python",
   "name": "python3"
  },
  "language_info": {
   "codemirror_mode": {
    "name": "ipython",
    "version": 3
   },
   "file_extension": ".py",
   "mimetype": "text/x-python",
   "name": "python",
   "nbconvert_exporter": "python",
   "pygments_lexer": "ipython3",
   "version": "3.7.9"
  }
 },
 "nbformat": 4,
 "nbformat_minor": 5
}
