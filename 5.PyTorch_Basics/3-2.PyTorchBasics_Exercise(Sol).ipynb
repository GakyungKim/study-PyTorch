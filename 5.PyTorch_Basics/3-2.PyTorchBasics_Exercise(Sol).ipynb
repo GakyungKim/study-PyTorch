{
 "cells": [
  {
   "cell_type": "markdown",
   "id": "de9ed007",
   "metadata": {},
   "source": [
    "# 1. Perform standard imports\n",
    "Import Torch and NumPy"
   ]
  },
  {
   "cell_type": "code",
   "execution_count": 1,
   "id": "979ab9c0",
   "metadata": {},
   "outputs": [],
   "source": [
    "# CODE HERE\n",
    "import torch\n",
    "import numpy as np"
   ]
  },
  {
   "cell_type": "markdown",
   "id": "cbf98c0e",
   "metadata": {},
   "source": [
    "# 2. Set the random seed for NumPy and PyTorch both to \"42\"\n",
    "This allows us to share the same \"random\" results."
   ]
  },
  {
   "cell_type": "code",
   "execution_count": 2,
   "id": "9e2a2a0a",
   "metadata": {},
   "outputs": [],
   "source": [
    "# CODE HERE\n",
    "np.random.seed(42)\n",
    "torch.manual_seed(42);"
   ]
  },
  {
   "cell_type": "markdown",
   "id": "652e329b",
   "metadata": {},
   "source": [
    "# 3. Create a NumPy array called \"arr\" that contains 6 random integers between 0 (inclusive) and 5 (exclusive)"
   ]
  },
  {
   "cell_type": "code",
   "execution_count": 3,
   "id": "c4c93ac3",
   "metadata": {},
   "outputs": [
    {
     "name": "stdout",
     "output_type": "stream",
     "text": [
      "[3 4 2 4 4 1]\n"
     ]
    }
   ],
   "source": [
    "# CODE HERE\n",
    "arr = np.random.randint(0,5,6)\n",
    "print(arr)"
   ]
  },
  {
   "cell_type": "markdown",
   "id": "0a07981d",
   "metadata": {},
   "source": [
    "# 4. Create a tensor \"x\" from the array above"
   ]
  },
  {
   "cell_type": "code",
   "execution_count": 4,
   "id": "cd33b6e8",
   "metadata": {},
   "outputs": [
    {
     "name": "stdout",
     "output_type": "stream",
     "text": [
      "tensor([3, 4, 2, 4, 4, 1])\n"
     ]
    }
   ],
   "source": [
    "# CODE HERE\n",
    "x = torch.from_numpy(arr)\n",
    "print(x)"
   ]
  },
  {
   "cell_type": "markdown",
   "id": "8b5454f3",
   "metadata": {},
   "source": [
    "# 5. Chage the dtype of x from 'int32' to 'int64'\n",
    "Note: 'int64' is also called 'LongTensor'"
   ]
  },
  {
   "cell_type": "code",
   "execution_count": 5,
   "id": "90c9adc5",
   "metadata": {},
   "outputs": [
    {
     "name": "stdout",
     "output_type": "stream",
     "text": [
      "tensor([3, 4, 2, 4, 4, 1])\n",
      "torch.LongTensor\n",
      "torch.int64\n"
     ]
    }
   ],
   "source": [
    "# CODE HERE\n",
    "x = x.type(torch.int64)\n",
    "print(x)\n",
    "print(x.type())\n",
    "print(x.dtype)"
   ]
  },
  {
   "cell_type": "markdown",
   "id": "6b716192",
   "metadata": {},
   "source": [
    "# 6. Reshape x into a 3x2 tensor\n",
    "There are several ways to do this."
   ]
  },
  {
   "cell_type": "code",
   "execution_count": 6,
   "id": "56f8e38b",
   "metadata": {},
   "outputs": [],
   "source": [
    "# CODE HERE\n",
    "x = x.reshape(3,2)"
   ]
  },
  {
   "cell_type": "markdown",
   "id": "15fa44cd",
   "metadata": {},
   "source": [
    "# 7. Return the right-hand column of tensor x"
   ]
  },
  {
   "cell_type": "code",
   "execution_count": 7,
   "id": "35e1ba6f",
   "metadata": {},
   "outputs": [
    {
     "name": "stdout",
     "output_type": "stream",
     "text": [
      "tensor([[3, 4],\n",
      "        [2, 4],\n",
      "        [4, 1]])\n",
      "tensor([[4],\n",
      "        [4],\n",
      "        [1]])\n"
     ]
    }
   ],
   "source": [
    "# CODE HERE\n",
    "print(x)\n",
    "print(x[:, 1:])"
   ]
  },
  {
   "cell_type": "markdown",
   "id": "479c321a",
   "metadata": {},
   "source": [
    "# 8. Without changing x, return a tensor of square values of x\n",
    "There are several ways to do this."
   ]
  },
  {
   "cell_type": "code",
   "execution_count": 8,
   "id": "0a2f2969",
   "metadata": {},
   "outputs": [
    {
     "data": {
      "text/plain": [
       "tensor([[ 9, 16],\n",
       "        [ 4, 16],\n",
       "        [16,  1]])"
      ]
     },
     "execution_count": 8,
     "metadata": {},
     "output_type": "execute_result"
    }
   ],
   "source": [
    "# CODE HERE\n",
    "x ** 2 #x * x"
   ]
  },
  {
   "cell_type": "markdown",
   "id": "63dd01fd",
   "metadata": {},
   "source": [
    "# 9. Create a tensor \"y\" with the same number of elements as x, that can be matrix-multipled with x\n",
    "Uwe PyTorch directly (not NumPy) to create a tensor of random integers between 0 (inclusive) and 5 (exclulsive).\n",
    "Think about what shape it should have to permit matrix multiplication."
   ]
  },
  {
   "cell_type": "code",
   "execution_count": 10,
   "id": "69d5f316",
   "metadata": {},
   "outputs": [
    {
     "data": {
      "text/plain": [
       "tensor([[2, 2, 1],\n",
       "        [4, 1, 0]])"
      ]
     },
     "execution_count": 10,
     "metadata": {},
     "output_type": "execute_result"
    }
   ],
   "source": [
    "# CODE HERE\n",
    "y = torch.randint(0,5,(2,3))\n",
    "y"
   ]
  },
  {
   "cell_type": "markdown",
   "id": "b1d5056c",
   "metadata": {},
   "source": [
    "# 10. Find the matrix product of x and y"
   ]
  },
  {
   "cell_type": "code",
   "execution_count": 11,
   "id": "3e3912bc",
   "metadata": {},
   "outputs": [
    {
     "data": {
      "text/plain": [
       "tensor([[22, 10,  3],\n",
       "        [20,  8,  2],\n",
       "        [12,  9,  4]])"
      ]
     },
     "execution_count": 11,
     "metadata": {},
     "output_type": "execute_result"
    }
   ],
   "source": [
    "# CODE HERE\n",
    "x.mm(y)"
   ]
  }
 ],
 "metadata": {
  "kernelspec": {
   "display_name": "Python 3 (ipykernel)",
   "language": "python",
   "name": "python3"
  },
  "language_info": {
   "codemirror_mode": {
    "name": "ipython",
    "version": 3
   },
   "file_extension": ".py",
   "mimetype": "text/x-python",
   "name": "python",
   "nbconvert_exporter": "python",
   "pygments_lexer": "ipython3",
   "version": "3.7.9"
  }
 },
 "nbformat": 4,
 "nbformat_minor": 5
}
